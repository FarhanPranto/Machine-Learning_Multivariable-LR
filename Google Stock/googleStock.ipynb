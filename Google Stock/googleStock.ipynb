{
 "cells": [
  {
   "cell_type": "code",
   "execution_count": 1,
   "id": "65fcd195-b7c1-4906-ba7c-59c9ab84c1a2",
   "metadata": {
    "tags": []
   },
   "outputs": [],
   "source": [
    "import pandas as pd\n",
    "import numpy as np\n",
    "from sklearn import linear_model"
   ]
  },
  {
   "cell_type": "code",
   "execution_count": 2,
   "id": "4a09cfe1-5b76-4112-bbfa-75c405c3516a",
   "metadata": {
    "tags": []
   },
   "outputs": [
    {
     "data": {
      "text/html": [
       "<div>\n",
       "<style scoped>\n",
       "    .dataframe tbody tr th:only-of-type {\n",
       "        vertical-align: middle;\n",
       "    }\n",
       "\n",
       "    .dataframe tbody tr th {\n",
       "        vertical-align: top;\n",
       "    }\n",
       "\n",
       "    .dataframe thead th {\n",
       "        text-align: right;\n",
       "    }\n",
       "</style>\n",
       "<table border=\"1\" class=\"dataframe\">\n",
       "  <thead>\n",
       "    <tr style=\"text-align: right;\">\n",
       "      <th></th>\n",
       "      <th>Date</th>\n",
       "      <th>Open</th>\n",
       "      <th>High</th>\n",
       "      <th>Low</th>\n",
       "      <th>Close</th>\n",
       "      <th>Adj Close</th>\n",
       "      <th>Volume</th>\n",
       "    </tr>\n",
       "  </thead>\n",
       "  <tbody>\n",
       "    <tr>\n",
       "      <th>0</th>\n",
       "      <td>2010-01-04</td>\n",
       "      <td>15.689439</td>\n",
       "      <td>15.753504</td>\n",
       "      <td>15.621622</td>\n",
       "      <td>15.684434</td>\n",
       "      <td>15.684434</td>\n",
       "      <td>78169752</td>\n",
       "    </tr>\n",
       "    <tr>\n",
       "      <th>1</th>\n",
       "      <td>2010-01-05</td>\n",
       "      <td>15.695195</td>\n",
       "      <td>15.711712</td>\n",
       "      <td>15.554054</td>\n",
       "      <td>15.615365</td>\n",
       "      <td>15.615365</td>\n",
       "      <td>120067812</td>\n",
       "    </tr>\n",
       "    <tr>\n",
       "      <th>2</th>\n",
       "      <td>2010-01-06</td>\n",
       "      <td>15.662162</td>\n",
       "      <td>15.662162</td>\n",
       "      <td>15.174174</td>\n",
       "      <td>15.221722</td>\n",
       "      <td>15.221722</td>\n",
       "      <td>158988852</td>\n",
       "    </tr>\n",
       "    <tr>\n",
       "      <th>3</th>\n",
       "      <td>2010-01-07</td>\n",
       "      <td>15.250250</td>\n",
       "      <td>15.265265</td>\n",
       "      <td>14.831081</td>\n",
       "      <td>14.867367</td>\n",
       "      <td>14.867367</td>\n",
       "      <td>256315428</td>\n",
       "    </tr>\n",
       "    <tr>\n",
       "      <th>4</th>\n",
       "      <td>2010-01-08</td>\n",
       "      <td>14.814815</td>\n",
       "      <td>15.096346</td>\n",
       "      <td>14.742492</td>\n",
       "      <td>15.065566</td>\n",
       "      <td>15.065566</td>\n",
       "      <td>188783028</td>\n",
       "    </tr>\n",
       "    <tr>\n",
       "      <th>...</th>\n",
       "      <td>...</td>\n",
       "      <td>...</td>\n",
       "      <td>...</td>\n",
       "      <td>...</td>\n",
       "      <td>...</td>\n",
       "      <td>...</td>\n",
       "      <td>...</td>\n",
       "    </tr>\n",
       "    <tr>\n",
       "      <th>3267</th>\n",
       "      <td>2022-12-23</td>\n",
       "      <td>87.110001</td>\n",
       "      <td>89.550003</td>\n",
       "      <td>87.070000</td>\n",
       "      <td>89.230003</td>\n",
       "      <td>89.230003</td>\n",
       "      <td>23003000</td>\n",
       "    </tr>\n",
       "    <tr>\n",
       "      <th>3268</th>\n",
       "      <td>2022-12-27</td>\n",
       "      <td>88.800003</td>\n",
       "      <td>88.940002</td>\n",
       "      <td>87.010002</td>\n",
       "      <td>87.389999</td>\n",
       "      <td>87.389999</td>\n",
       "      <td>20097300</td>\n",
       "    </tr>\n",
       "    <tr>\n",
       "      <th>3269</th>\n",
       "      <td>2022-12-28</td>\n",
       "      <td>86.980003</td>\n",
       "      <td>88.040001</td>\n",
       "      <td>85.940002</td>\n",
       "      <td>86.019997</td>\n",
       "      <td>86.019997</td>\n",
       "      <td>19523200</td>\n",
       "    </tr>\n",
       "    <tr>\n",
       "      <th>3270</th>\n",
       "      <td>2022-12-29</td>\n",
       "      <td>86.620003</td>\n",
       "      <td>88.849998</td>\n",
       "      <td>86.610001</td>\n",
       "      <td>88.449997</td>\n",
       "      <td>88.449997</td>\n",
       "      <td>23333500</td>\n",
       "    </tr>\n",
       "    <tr>\n",
       "      <th>3271</th>\n",
       "      <td>2022-12-30</td>\n",
       "      <td>86.980003</td>\n",
       "      <td>88.300003</td>\n",
       "      <td>86.570000</td>\n",
       "      <td>88.230003</td>\n",
       "      <td>88.230003</td>\n",
       "      <td>23986300</td>\n",
       "    </tr>\n",
       "  </tbody>\n",
       "</table>\n",
       "<p>3272 rows × 7 columns</p>\n",
       "</div>"
      ],
      "text/plain": [
       "            Date       Open       High        Low      Close  Adj Close  \\\n",
       "0     2010-01-04  15.689439  15.753504  15.621622  15.684434  15.684434   \n",
       "1     2010-01-05  15.695195  15.711712  15.554054  15.615365  15.615365   \n",
       "2     2010-01-06  15.662162  15.662162  15.174174  15.221722  15.221722   \n",
       "3     2010-01-07  15.250250  15.265265  14.831081  14.867367  14.867367   \n",
       "4     2010-01-08  14.814815  15.096346  14.742492  15.065566  15.065566   \n",
       "...          ...        ...        ...        ...        ...        ...   \n",
       "3267  2022-12-23  87.110001  89.550003  87.070000  89.230003  89.230003   \n",
       "3268  2022-12-27  88.800003  88.940002  87.010002  87.389999  87.389999   \n",
       "3269  2022-12-28  86.980003  88.040001  85.940002  86.019997  86.019997   \n",
       "3270  2022-12-29  86.620003  88.849998  86.610001  88.449997  88.449997   \n",
       "3271  2022-12-30  86.980003  88.300003  86.570000  88.230003  88.230003   \n",
       "\n",
       "         Volume  \n",
       "0      78169752  \n",
       "1     120067812  \n",
       "2     158988852  \n",
       "3     256315428  \n",
       "4     188783028  \n",
       "...         ...  \n",
       "3267   23003000  \n",
       "3268   20097300  \n",
       "3269   19523200  \n",
       "3270   23333500  \n",
       "3271   23986300  \n",
       "\n",
       "[3272 rows x 7 columns]"
      ]
     },
     "execution_count": 2,
     "metadata": {},
     "output_type": "execute_result"
    }
   ],
   "source": [
    "df = pd.read_csv('Google_Stock_Train (2010-2022).csv')\n",
    "df"
   ]
  },
  {
   "cell_type": "code",
   "execution_count": 3,
   "id": "67e383a9-6187-46c1-816b-03d91f7c48f0",
   "metadata": {
    "tags": []
   },
   "outputs": [
    {
     "name": "stdout",
     "output_type": "stream",
     "text": [
      "<class 'pandas.core.frame.DataFrame'>\n",
      "RangeIndex: 3272 entries, 0 to 3271\n",
      "Data columns (total 7 columns):\n",
      " #   Column     Non-Null Count  Dtype  \n",
      "---  ------     --------------  -----  \n",
      " 0   Date       3272 non-null   object \n",
      " 1   Open       3272 non-null   float64\n",
      " 2   High       3272 non-null   float64\n",
      " 3   Low        3272 non-null   float64\n",
      " 4   Close      3272 non-null   float64\n",
      " 5   Adj Close  3272 non-null   float64\n",
      " 6   Volume     3272 non-null   int64  \n",
      "dtypes: float64(5), int64(1), object(1)\n",
      "memory usage: 179.1+ KB\n"
     ]
    }
   ],
   "source": [
    "df.info()"
   ]
  },
  {
   "cell_type": "code",
   "execution_count": 4,
   "id": "d3be4d4d-afae-4869-9994-c88f3f621dbe",
   "metadata": {
    "tags": []
   },
   "outputs": [
    {
     "name": "stdout",
     "output_type": "stream",
     "text": [
      "<class 'pandas.core.frame.DataFrame'>\n",
      "RangeIndex: 3272 entries, 0 to 3271\n",
      "Data columns (total 7 columns):\n",
      " #   Column     Non-Null Count  Dtype         \n",
      "---  ------     --------------  -----         \n",
      " 0   Date       3272 non-null   datetime64[ns]\n",
      " 1   Open       3272 non-null   float64       \n",
      " 2   High       3272 non-null   float64       \n",
      " 3   Low        3272 non-null   float64       \n",
      " 4   Close      3272 non-null   float64       \n",
      " 5   Adj Close  3272 non-null   float64       \n",
      " 6   Volume     3272 non-null   int64         \n",
      "dtypes: datetime64[ns](1), float64(5), int64(1)\n",
      "memory usage: 179.1 KB\n"
     ]
    }
   ],
   "source": [
    "df['Date']= pd.to_datetime(df['Date'])\n",
    "df.info()"
   ]
  },
  {
   "cell_type": "code",
   "execution_count": 5,
   "id": "c5561ace-dc71-4cf9-82d2-b220b73bd52e",
   "metadata": {
    "tags": []
   },
   "outputs": [],
   "source": [
    "df['Date']= df['Date'].dt.year"
   ]
  },
  {
   "cell_type": "code",
   "execution_count": 6,
   "id": "29274bb8-6ea7-45e1-8dfb-26999624be6d",
   "metadata": {
    "tags": []
   },
   "outputs": [
    {
     "name": "stdout",
     "output_type": "stream",
     "text": [
      "<class 'pandas.core.frame.DataFrame'>\n",
      "RangeIndex: 3272 entries, 0 to 3271\n",
      "Data columns (total 7 columns):\n",
      " #   Column     Non-Null Count  Dtype  \n",
      "---  ------     --------------  -----  \n",
      " 0   Date       3272 non-null   int64  \n",
      " 1   Open       3272 non-null   float64\n",
      " 2   High       3272 non-null   float64\n",
      " 3   Low        3272 non-null   float64\n",
      " 4   Close      3272 non-null   float64\n",
      " 5   Adj Close  3272 non-null   float64\n",
      " 6   Volume     3272 non-null   int64  \n",
      "dtypes: float64(5), int64(2)\n",
      "memory usage: 179.1 KB\n"
     ]
    }
   ],
   "source": [
    "df.info()"
   ]
  },
  {
   "cell_type": "code",
   "execution_count": 7,
   "id": "c03d52c1-6fa1-4cd2-afe6-4b8a39d72a08",
   "metadata": {
    "tags": []
   },
   "outputs": [
    {
     "data": {
      "text/plain": [
       "Date         0\n",
       "Open         0\n",
       "High         0\n",
       "Low          0\n",
       "Close        0\n",
       "Adj Close    0\n",
       "Volume       0\n",
       "dtype: int64"
      ]
     },
     "execution_count": 7,
     "metadata": {},
     "output_type": "execute_result"
    }
   ],
   "source": [
    "df.isnull().sum()"
   ]
  },
  {
   "cell_type": "code",
   "execution_count": 8,
   "id": "ef02d645-4548-4217-99a8-a10531ff5bf3",
   "metadata": {
    "tags": []
   },
   "outputs": [
    {
     "data": {
      "text/html": [
       "<div>\n",
       "<style scoped>\n",
       "    .dataframe tbody tr th:only-of-type {\n",
       "        vertical-align: middle;\n",
       "    }\n",
       "\n",
       "    .dataframe tbody tr th {\n",
       "        vertical-align: top;\n",
       "    }\n",
       "\n",
       "    .dataframe thead th {\n",
       "        text-align: right;\n",
       "    }\n",
       "</style>\n",
       "<table border=\"1\" class=\"dataframe\">\n",
       "  <thead>\n",
       "    <tr style=\"text-align: right;\">\n",
       "      <th></th>\n",
       "      <th>Date</th>\n",
       "      <th>Open</th>\n",
       "      <th>High</th>\n",
       "      <th>Low</th>\n",
       "      <th>Close</th>\n",
       "      <th>Adj Close</th>\n",
       "    </tr>\n",
       "  </thead>\n",
       "  <tbody>\n",
       "    <tr>\n",
       "      <th>0</th>\n",
       "      <td>2010</td>\n",
       "      <td>15.689439</td>\n",
       "      <td>15.753504</td>\n",
       "      <td>15.621622</td>\n",
       "      <td>15.684434</td>\n",
       "      <td>15.684434</td>\n",
       "    </tr>\n",
       "    <tr>\n",
       "      <th>1</th>\n",
       "      <td>2010</td>\n",
       "      <td>15.695195</td>\n",
       "      <td>15.711712</td>\n",
       "      <td>15.554054</td>\n",
       "      <td>15.615365</td>\n",
       "      <td>15.615365</td>\n",
       "    </tr>\n",
       "    <tr>\n",
       "      <th>2</th>\n",
       "      <td>2010</td>\n",
       "      <td>15.662162</td>\n",
       "      <td>15.662162</td>\n",
       "      <td>15.174174</td>\n",
       "      <td>15.221722</td>\n",
       "      <td>15.221722</td>\n",
       "    </tr>\n",
       "    <tr>\n",
       "      <th>3</th>\n",
       "      <td>2010</td>\n",
       "      <td>15.250250</td>\n",
       "      <td>15.265265</td>\n",
       "      <td>14.831081</td>\n",
       "      <td>14.867367</td>\n",
       "      <td>14.867367</td>\n",
       "    </tr>\n",
       "    <tr>\n",
       "      <th>4</th>\n",
       "      <td>2010</td>\n",
       "      <td>14.814815</td>\n",
       "      <td>15.096346</td>\n",
       "      <td>14.742492</td>\n",
       "      <td>15.065566</td>\n",
       "      <td>15.065566</td>\n",
       "    </tr>\n",
       "    <tr>\n",
       "      <th>...</th>\n",
       "      <td>...</td>\n",
       "      <td>...</td>\n",
       "      <td>...</td>\n",
       "      <td>...</td>\n",
       "      <td>...</td>\n",
       "      <td>...</td>\n",
       "    </tr>\n",
       "    <tr>\n",
       "      <th>3267</th>\n",
       "      <td>2022</td>\n",
       "      <td>87.110001</td>\n",
       "      <td>89.550003</td>\n",
       "      <td>87.070000</td>\n",
       "      <td>89.230003</td>\n",
       "      <td>89.230003</td>\n",
       "    </tr>\n",
       "    <tr>\n",
       "      <th>3268</th>\n",
       "      <td>2022</td>\n",
       "      <td>88.800003</td>\n",
       "      <td>88.940002</td>\n",
       "      <td>87.010002</td>\n",
       "      <td>87.389999</td>\n",
       "      <td>87.389999</td>\n",
       "    </tr>\n",
       "    <tr>\n",
       "      <th>3269</th>\n",
       "      <td>2022</td>\n",
       "      <td>86.980003</td>\n",
       "      <td>88.040001</td>\n",
       "      <td>85.940002</td>\n",
       "      <td>86.019997</td>\n",
       "      <td>86.019997</td>\n",
       "    </tr>\n",
       "    <tr>\n",
       "      <th>3270</th>\n",
       "      <td>2022</td>\n",
       "      <td>86.620003</td>\n",
       "      <td>88.849998</td>\n",
       "      <td>86.610001</td>\n",
       "      <td>88.449997</td>\n",
       "      <td>88.449997</td>\n",
       "    </tr>\n",
       "    <tr>\n",
       "      <th>3271</th>\n",
       "      <td>2022</td>\n",
       "      <td>86.980003</td>\n",
       "      <td>88.300003</td>\n",
       "      <td>86.570000</td>\n",
       "      <td>88.230003</td>\n",
       "      <td>88.230003</td>\n",
       "    </tr>\n",
       "  </tbody>\n",
       "</table>\n",
       "<p>3272 rows × 6 columns</p>\n",
       "</div>"
      ],
      "text/plain": [
       "      Date       Open       High        Low      Close  Adj Close\n",
       "0     2010  15.689439  15.753504  15.621622  15.684434  15.684434\n",
       "1     2010  15.695195  15.711712  15.554054  15.615365  15.615365\n",
       "2     2010  15.662162  15.662162  15.174174  15.221722  15.221722\n",
       "3     2010  15.250250  15.265265  14.831081  14.867367  14.867367\n",
       "4     2010  14.814815  15.096346  14.742492  15.065566  15.065566\n",
       "...    ...        ...        ...        ...        ...        ...\n",
       "3267  2022  87.110001  89.550003  87.070000  89.230003  89.230003\n",
       "3268  2022  88.800003  88.940002  87.010002  87.389999  87.389999\n",
       "3269  2022  86.980003  88.040001  85.940002  86.019997  86.019997\n",
       "3270  2022  86.620003  88.849998  86.610001  88.449997  88.449997\n",
       "3271  2022  86.980003  88.300003  86.570000  88.230003  88.230003\n",
       "\n",
       "[3272 rows x 6 columns]"
      ]
     },
     "execution_count": 8,
     "metadata": {},
     "output_type": "execute_result"
    }
   ],
   "source": [
    "X = df.drop(['Volume'], axis=1)\n",
    "X"
   ]
  },
  {
   "cell_type": "code",
   "execution_count": 9,
   "id": "30e6c4ee-76db-4f1c-9ae8-4134cf5defcc",
   "metadata": {
    "tags": []
   },
   "outputs": [
    {
     "data": {
      "text/plain": [
       "0        78169752\n",
       "1       120067812\n",
       "2       158988852\n",
       "3       256315428\n",
       "4       188783028\n",
       "          ...    \n",
       "3267     23003000\n",
       "3268     20097300\n",
       "3269     19523200\n",
       "3270     23333500\n",
       "3271     23986300\n",
       "Name: Volume, Length: 3272, dtype: int64"
      ]
     },
     "execution_count": 9,
     "metadata": {},
     "output_type": "execute_result"
    }
   ],
   "source": [
    "y= df['Volume']\n",
    "y"
   ]
  },
  {
   "cell_type": "code",
   "execution_count": 10,
   "id": "c3403b8f-d8d0-4eff-ad91-ef772c915578",
   "metadata": {
    "tags": []
   },
   "outputs": [],
   "source": [
    "from sklearn.model_selection import train_test_split"
   ]
  },
  {
   "cell_type": "code",
   "execution_count": 11,
   "id": "b99d0d1f-ae0b-465d-9f46-2d42a5ed1136",
   "metadata": {
    "tags": []
   },
   "outputs": [
    {
     "data": {
      "text/plain": [
       "2944"
      ]
     },
     "execution_count": 11,
     "metadata": {},
     "output_type": "execute_result"
    }
   ],
   "source": [
    "X_train, X_test, y_train, y_test =train_test_split(X, y, test_size = 0.1)\n",
    "len(X_train)"
   ]
  },
  {
   "cell_type": "code",
   "execution_count": 12,
   "id": "ee6e623a-9097-42eb-93b7-741ca9a7d4a0",
   "metadata": {
    "tags": []
   },
   "outputs": [
    {
     "data": {
      "text/plain": [
       "328"
      ]
     },
     "execution_count": 12,
     "metadata": {},
     "output_type": "execute_result"
    }
   ],
   "source": [
    "len(X_test)"
   ]
  },
  {
   "cell_type": "code",
   "execution_count": 13,
   "id": "7353da9c-86f9-4083-ba78-ab6ec3f3cde1",
   "metadata": {
    "tags": []
   },
   "outputs": [
    {
     "data": {
      "text/html": [
       "<style>#sk-container-id-1 {color: black;background-color: white;}#sk-container-id-1 pre{padding: 0;}#sk-container-id-1 div.sk-toggleable {background-color: white;}#sk-container-id-1 label.sk-toggleable__label {cursor: pointer;display: block;width: 100%;margin-bottom: 0;padding: 0.3em;box-sizing: border-box;text-align: center;}#sk-container-id-1 label.sk-toggleable__label-arrow:before {content: \"▸\";float: left;margin-right: 0.25em;color: #696969;}#sk-container-id-1 label.sk-toggleable__label-arrow:hover:before {color: black;}#sk-container-id-1 div.sk-estimator:hover label.sk-toggleable__label-arrow:before {color: black;}#sk-container-id-1 div.sk-toggleable__content {max-height: 0;max-width: 0;overflow: hidden;text-align: left;background-color: #f0f8ff;}#sk-container-id-1 div.sk-toggleable__content pre {margin: 0.2em;color: black;border-radius: 0.25em;background-color: #f0f8ff;}#sk-container-id-1 input.sk-toggleable__control:checked~div.sk-toggleable__content {max-height: 200px;max-width: 100%;overflow: auto;}#sk-container-id-1 input.sk-toggleable__control:checked~label.sk-toggleable__label-arrow:before {content: \"▾\";}#sk-container-id-1 div.sk-estimator input.sk-toggleable__control:checked~label.sk-toggleable__label {background-color: #d4ebff;}#sk-container-id-1 div.sk-label input.sk-toggleable__control:checked~label.sk-toggleable__label {background-color: #d4ebff;}#sk-container-id-1 input.sk-hidden--visually {border: 0;clip: rect(1px 1px 1px 1px);clip: rect(1px, 1px, 1px, 1px);height: 1px;margin: -1px;overflow: hidden;padding: 0;position: absolute;width: 1px;}#sk-container-id-1 div.sk-estimator {font-family: monospace;background-color: #f0f8ff;border: 1px dotted black;border-radius: 0.25em;box-sizing: border-box;margin-bottom: 0.5em;}#sk-container-id-1 div.sk-estimator:hover {background-color: #d4ebff;}#sk-container-id-1 div.sk-parallel-item::after {content: \"\";width: 100%;border-bottom: 1px solid gray;flex-grow: 1;}#sk-container-id-1 div.sk-label:hover label.sk-toggleable__label {background-color: #d4ebff;}#sk-container-id-1 div.sk-serial::before {content: \"\";position: absolute;border-left: 1px solid gray;box-sizing: border-box;top: 0;bottom: 0;left: 50%;z-index: 0;}#sk-container-id-1 div.sk-serial {display: flex;flex-direction: column;align-items: center;background-color: white;padding-right: 0.2em;padding-left: 0.2em;position: relative;}#sk-container-id-1 div.sk-item {position: relative;z-index: 1;}#sk-container-id-1 div.sk-parallel {display: flex;align-items: stretch;justify-content: center;background-color: white;position: relative;}#sk-container-id-1 div.sk-item::before, #sk-container-id-1 div.sk-parallel-item::before {content: \"\";position: absolute;border-left: 1px solid gray;box-sizing: border-box;top: 0;bottom: 0;left: 50%;z-index: -1;}#sk-container-id-1 div.sk-parallel-item {display: flex;flex-direction: column;z-index: 1;position: relative;background-color: white;}#sk-container-id-1 div.sk-parallel-item:first-child::after {align-self: flex-end;width: 50%;}#sk-container-id-1 div.sk-parallel-item:last-child::after {align-self: flex-start;width: 50%;}#sk-container-id-1 div.sk-parallel-item:only-child::after {width: 0;}#sk-container-id-1 div.sk-dashed-wrapped {border: 1px dashed gray;margin: 0 0.4em 0.5em 0.4em;box-sizing: border-box;padding-bottom: 0.4em;background-color: white;}#sk-container-id-1 div.sk-label label {font-family: monospace;font-weight: bold;display: inline-block;line-height: 1.2em;}#sk-container-id-1 div.sk-label-container {text-align: center;}#sk-container-id-1 div.sk-container {/* jupyter's `normalize.less` sets `[hidden] { display: none; }` but bootstrap.min.css set `[hidden] { display: none !important; }` so we also need the `!important` here to be able to override the default hidden behavior on the sphinx rendered scikit-learn.org. See: https://github.com/scikit-learn/scikit-learn/issues/21755 */display: inline-block !important;position: relative;}#sk-container-id-1 div.sk-text-repr-fallback {display: none;}</style><div id=\"sk-container-id-1\" class=\"sk-top-container\"><div class=\"sk-text-repr-fallback\"><pre>LinearRegression()</pre><b>In a Jupyter environment, please rerun this cell to show the HTML representation or trust the notebook. <br />On GitHub, the HTML representation is unable to render, please try loading this page with nbviewer.org.</b></div><div class=\"sk-container\" hidden><div class=\"sk-item\"><div class=\"sk-estimator sk-toggleable\"><input class=\"sk-toggleable__control sk-hidden--visually\" id=\"sk-estimator-id-1\" type=\"checkbox\" checked><label for=\"sk-estimator-id-1\" class=\"sk-toggleable__label sk-toggleable__label-arrow\">LinearRegression</label><div class=\"sk-toggleable__content\"><pre>LinearRegression()</pre></div></div></div></div></div>"
      ],
      "text/plain": [
       "LinearRegression()"
      ]
     },
     "execution_count": 13,
     "metadata": {},
     "output_type": "execute_result"
    }
   ],
   "source": [
    "reg = linear_model.LinearRegression()\n",
    "reg.fit(X_train.values, y_train)"
   ]
  },
  {
   "cell_type": "code",
   "execution_count": 14,
   "id": "c825bad0-b81d-4f2a-8966-f1a2aafeaf53",
   "metadata": {
    "tags": []
   },
   "outputs": [
    {
     "data": {
      "text/plain": [
       "0.46190473988123415"
      ]
     },
     "execution_count": 14,
     "metadata": {},
     "output_type": "execute_result"
    }
   ],
   "source": [
    "reg.score( X_test.values,  y_test)"
   ]
  },
  {
   "cell_type": "code",
   "execution_count": 15,
   "id": "31205065-9efd-4ab9-8fa0-a58d200683e7",
   "metadata": {
    "tags": []
   },
   "outputs": [
    {
     "data": {
      "text/plain": [
       "array([12849589.89229965])"
      ]
     },
     "execution_count": 15,
     "metadata": {},
     "output_type": "execute_result"
    }
   ],
   "source": [
    "reg.predict([[2022,87.110001,89.550003,87.070000,89.230003,89.230003]])"
   ]
  },
  {
   "cell_type": "code",
   "execution_count": 16,
   "id": "3bbd0bb3-9ac4-4bdd-a266-29c5dc1c6a04",
   "metadata": {
    "tags": []
   },
   "outputs": [
    {
     "data": {
      "text/plain": [
       "array([-13639623.69157874,    220410.37237426,  19099546.8662888 ,\n",
       "       -18352285.79250668,   -381722.14428648,   -381722.14428648])"
      ]
     },
     "execution_count": 16,
     "metadata": {},
     "output_type": "execute_result"
    }
   ],
   "source": [
    "reg.coef_"
   ]
  },
  {
   "cell_type": "code",
   "execution_count": 17,
   "id": "6ebc479b-a603-48e2-b201-33bfc187f652",
   "metadata": {
    "tags": []
   },
   "outputs": [
    {
     "data": {
      "text/plain": [
       "27528659927.445026"
      ]
     },
     "execution_count": 17,
     "metadata": {},
     "output_type": "execute_result"
    }
   ],
   "source": [
    "reg.intercept_"
   ]
  },
  {
   "cell_type": "code",
   "execution_count": null,
   "id": "b12c7416-219e-42cd-ab1b-476b67f70281",
   "metadata": {},
   "outputs": [],
   "source": []
  }
 ],
 "metadata": {
  "kernelspec": {
   "display_name": "Python 3 (ipykernel)",
   "language": "python",
   "name": "python3"
  },
  "language_info": {
   "codemirror_mode": {
    "name": "ipython",
    "version": 3
   },
   "file_extension": ".py",
   "mimetype": "text/x-python",
   "name": "python",
   "nbconvert_exporter": "python",
   "pygments_lexer": "ipython3",
   "version": "3.11.3"
  }
 },
 "nbformat": 4,
 "nbformat_minor": 5
}
